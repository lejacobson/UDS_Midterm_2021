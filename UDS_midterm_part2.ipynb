{
 "cells": [
  {
   "cell_type": "markdown",
   "metadata": {},
   "source": [
    "# UDS Midterm, Part 2: Making Potential Outcomes Concrete\n",
    "\n",
    "\n",
    "Tired of problem sets, you've recently decided to make your graduate school experience more interesting by starting your own business. After talking to a lot of classmates, you found that one of the things that they struggle with coming to Duke is having to leave behind their household pets. So your business idea: \"rent\" out pets to stressed-out students!\n",
    "\n",
    "![trillian_nose](images/trillian_nose.jpeg)\n",
    "\n",
    "Of course the biggest problem with starting a business for college is that they're all broke. So rather than trying to market your service directly to students, you have approached the Duke Office of Health and Wellness to see if they'd be willing to pay for the service to improve student life. After all, not only is their mission to support student wellbeing, but paying for a student to spend an afternoon playing fetch with a lovely golden retriever is probably a *lot* cheaper than the therapy students who get overwhelmed might seek out, so it might even save them money in the long run!\n",
    "\n",
    "(Not the a dog is a substitute for a trained mental health professional when you need one! But sometimes an ounce of prevention is better than a pound of cure, and what could be a better preventative measure than cuddling a dog?!)\n",
    "\n",
    "When you sit down to chat with the folks at Health and Wellness (H&W) though, the seem very dubious about your proposal. In particular, they make the following argument:\n",
    "\n",
    "\"There are actually quite a few students on campus who have pets. While pets are not generally allowed on campus, under the Americans with Disabilities Act (ADA) and Fair House Act (FHA), we are required to make accomodations for students who have animals to assistant them with physical disabilities (\"service animals\"), and students who have animals to help them deal with mental health issue (\"emotional support animals\"). \n",
    "\n",
    "But in our experience, the students with these animals don't seem any happier than the average Duke student. Indeed, quite the contrary: they are some of the people who make use of Health and Wellness resources the most. We worry that while cute, animals on campus are actually turning into a distraction, causing students to lose focus on the studies, making them fall behind, and thus making them more stressed out then they would be otherwise. After all, if animals were so good at improving student mental health, it seems like the students with animals should be doing better than those without animals, and that's just not what we see!\""
   ]
  },
  {
   "cell_type": "markdown",
   "metadata": {},
   "source": [
    "## Mapping to the Potential Outcomes Framework"
   ]
  },
  {
   "cell_type": "markdown",
   "metadata": {},
   "source": [
    "The Health and Wellness person you are talking to is (implicitly) making the claim that the correlation they see between student mental health and having an animal on campus is negative, and so having an animal on campus seems to *causing* students to have lower mental health. \n",
    "\n",
    "In the questions below, please map the argument made by this Health and Wellness official onto our potential outcomes framework. Since this is not an exact \"study\" we're analyzing, it's sufficient to talk about our outcome in general terms (like \"mental health\"). \n",
    "\n",
    "As you do so, avoid using terms like \"treatment\", \"control group\", or \"potential outcome\". The goal of this exercise is to move from the abstract conceptual derivations we've read to the specifics of this study. For example, I've put in an answer to Question 1 below:"
   ]
  },
  {
   "cell_type": "markdown",
   "metadata": {},
   "source": [
    "**1**: $E(Y_0)$\n",
    "\n",
    "> The average mental health of all Duke students if no one had an animal on campus. "
   ]
  },
  {
   "cell_type": "markdown",
   "metadata": {},
   "source": [
    "**2**: $E(Y_1)$\n",
    "\n",
    "```\n",
    "\n",
    "\n",
    "\n",
    "\n",
    "```"
   ]
  },
  {
   "cell_type": "markdown",
   "metadata": {},
   "source": [
    "**3**: $E(Y_1) - E(Y_0)$\n",
    "\n",
    "```\n",
    "\n",
    "\n",
    "\n",
    "\n",
    "\n",
    "```"
   ]
  },
  {
   "cell_type": "markdown",
   "metadata": {},
   "source": [
    "**4**: $E(Y_1| D=1)$\n",
    "\n",
    "```\n",
    "\n",
    "\n",
    "\n",
    "\n",
    "\n",
    "```"
   ]
  },
  {
   "cell_type": "markdown",
   "metadata": {},
   "source": [
    "**5**: $E(Y_0| D=0)$\n",
    "\n",
    "```\n",
    "\n",
    "\n",
    "\n",
    "\n",
    "\n",
    "```"
   ]
  },
  {
   "cell_type": "markdown",
   "metadata": {},
   "source": [
    "**6**: $E(Y_1|D=0)$\n",
    "\n",
    "```\n",
    "\n",
    "\n",
    "\n",
    "\n",
    "\n",
    "```"
   ]
  },
  {
   "cell_type": "markdown",
   "metadata": {},
   "source": [
    "**7**: $E(Y_0| D=1)$\n",
    "\n",
    "\n",
    "```\n",
    "\n",
    "\n",
    "\n",
    "\n",
    "\n",
    "```"
   ]
  },
  {
   "cell_type": "markdown",
   "metadata": {},
   "source": [
    "**8**: $E(Y_1| D=0) - E(Y_0|D=0)$\n",
    "\n",
    "```\n",
    "\n",
    "\n",
    "\n",
    "\n",
    "\n",
    "```"
   ]
  },
  {
   "cell_type": "markdown",
   "metadata": {},
   "source": [
    "**9**: $E(Y_0| D=1) - E(Y_0|D=0)$\n",
    "\n",
    "```\n",
    "\n",
    "\n",
    "\n",
    "\n",
    "\n",
    "```"
   ]
  },
  {
   "cell_type": "markdown",
   "metadata": {},
   "source": [
    "## Observability\n",
    "\n",
    "**10**: Now, which of the quantities above can be directly observed from students at Duke (if, of example, we were to try and correlate animal ownership with use of Health and Wellness resources or a survey of student happiness)?\n",
    "\n",
    "```\n",
    "\n",
    "\n",
    "```"
   ]
  },
  {
   "cell_type": "markdown",
   "metadata": {},
   "source": [
    "## Causal Inference"
   ]
  },
  {
   "cell_type": "markdown",
   "metadata": {},
   "source": [
    "In order for the difference in mental health described by the H&W official -- that those who have animals on campus have worse mental health -- to be a true estimate of the average effect of having a pet, we know that it must be the case that:\n",
    "\n",
    "$E(Y_0| D=1) - E(Y_0| D=0) = 0$\n",
    "\n",
    "and \n",
    "\n",
    "$E(Y_1| D=0) - E(Y_0| D=0) = E(Y_1| D=1) - E(Y_0 | D=1)$. \n",
    "\n",
    "In the context of this study, what do those two conditions mean *in plain english*? As above, avoid using abstract terms (\"treatment\", \"baseline\", etc.) and try and be as concrete as possible. \n",
    "\n",
    "**11** $E(Y_0| D=1) - E(Y_0| D=0) = 0$:\n",
    "\n",
    "\n",
    "```\n",
    "\n",
    "\n",
    "\n",
    "```"
   ]
  },
  {
   "cell_type": "markdown",
   "metadata": {},
   "source": [
    "**12** $E(Y_1| D=0) - E(Y_0| D=0) = E(Y_1| D=1) - E(Y_0| D=1)$:\n",
    "\n",
    "\n",
    "```\n",
    "\n",
    "\n",
    "\n",
    "```"
   ]
  },
  {
   "cell_type": "markdown",
   "metadata": {},
   "source": [
    "Now, for each of the conditions above, please give one reason -- *in plain english* -- why those conditions may **not** be met in the context of this study? \n",
    "\n",
    "As you do so, be specific! Tell me a story about why *in the case of this study* you think one of these conditions may hold. One can always say things like \"people in the two groups may have been different\", but I want a specific reason you think they might have been different in a way that meets the conditions.\n",
    "\n",
    "**13** It may be the case that $E(Y_0| D=1) - E(Y_0| D=0) \\neq 0$ because...:\n",
    "\n",
    "\n",
    "```\n",
    "\n",
    "\n",
    "\n",
    "```"
   ]
  },
  {
   "cell_type": "markdown",
   "metadata": {},
   "source": [
    "**14**  It may be the case that $E(Y_1| D=0) - E(Y_0|D=0) \\neq E(Y_1| D=1) - E(Y_0| D=1)$ because...:\n",
    "\n",
    "\n",
    "```\n",
    "\n",
    "\n",
    "\n",
    "```"
   ]
  },
  {
   "cell_type": "markdown",
   "metadata": {},
   "source": [
    "## Address the Health and Wellness Officials Concerns\n",
    "\n",
    "**15** Bearing in mind that the H&W official you're speaking to is **not** a statistician (and so they wouldn't be familiar with terms like \"differential treatment effects\", or \"potential outcomes\"), please write out what you might say to this official to try and address their concerns. Your response should be *at least* one paragraph, but don't write more than three. \n",
    "\n",
    "```\n",
    "\n",
    "\n",
    "\n",
    "\n",
    "```"
   ]
  },
  {
   "cell_type": "markdown",
   "metadata": {},
   "source": [
    "## Propose a Solution\n",
    "\n",
    "Congratulations! \n",
    "\n",
    "The H&W official isn't entirely sold, but they're now open to the possibility that they were wrong. Now think of a set of next steps you could take to help convince the H&W official that your company is providing a service that Duke should invest in for the entire university. Bear in mind that the H&W official is now willing to spend *some* money if they feel confident that doing so would allow you to allay their concerns. \n",
    "\n",
    "**16** Write out a proposal for what you'd like to do next. Again, your plan should be at least one paragraph, but you don't need to write more than three. Please be specific about your plan. "
   ]
  }
 ],
 "metadata": {
  "kernelspec": {
   "display_name": "Python 3",
   "language": "python",
   "name": "python3"
  },
  "language_info": {
   "codemirror_mode": {
    "name": "ipython",
    "version": 3
   },
   "file_extension": ".py",
   "mimetype": "text/x-python",
   "name": "python",
   "nbconvert_exporter": "python",
   "pygments_lexer": "ipython3",
   "version": "3.7.8"
  }
 },
 "nbformat": 4,
 "nbformat_minor": 4
}
