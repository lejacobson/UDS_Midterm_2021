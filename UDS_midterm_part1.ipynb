{
 "cells": [
  {
   "cell_type": "markdown",
   "id": "laden-physiology",
   "metadata": {},
   "source": [
    "# UDS Midterm: Potential Outcomes"
   ]
  },
  {
   "cell_type": "markdown",
   "id": "front-tuesday",
   "metadata": {},
   "source": [
    "Question 1: Which of the following is the *fundamental problem of causal inference*: \n",
    "\n",
    "- We can only make causal inferences when we can run experiments\n",
    "- We can never directly observe both an outcome and it's counter-factual for the same unit of observation, and so we must always find ways to *approximate* what outcome we think *would* have happened to the unit of observation under the counter-factual.\n",
    "- "
   ]
  },
  {
   "cell_type": "code",
   "execution_count": null,
   "id": "fifth-finance",
   "metadata": {},
   "outputs": [],
   "source": []
  }
 ],
 "metadata": {
  "kernelspec": {
   "display_name": "Python 3",
   "language": "python",
   "name": "python3"
  },
  "language_info": {
   "codemirror_mode": {
    "name": "ipython",
    "version": 3
   },
   "file_extension": ".py",
   "mimetype": "text/x-python",
   "name": "python",
   "nbconvert_exporter": "python",
   "pygments_lexer": "ipython3",
   "version": "3.7.8"
  }
 },
 "nbformat": 4,
 "nbformat_minor": 5
}
