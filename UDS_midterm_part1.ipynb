{
 "cells": [
  {
   "cell_type": "markdown",
   "id": "executive-health",
   "metadata": {},
   "source": [
    "# UDS Midterm: Potential Outcomes"
   ]
  },
  {
   "cell_type": "markdown",
   "id": "fixed-complaint",
   "metadata": {},
   "source": [
    "Question 1: Which of the following is the *fundamental problem of causal inference*: \n",
    "\n",
    "- We can only make causal inferences when we can run experiments\n",
    "- We can never directly observe both an outcome and it's counter-factual for the same unit of observation, and so we must always find ways to *approximate* what outcome we think *would* have happened to the unit of observation under the counter-factual.\n",
    "- "
   ]
  },
  {
   "cell_type": "markdown",
   "id": "tired-sample",
   "metadata": {},
   "source": [
    "Our estimated treatment effect $\\hat \\tau$ can be decomposed into two parts.\n",
    "\n",
    "\n",
    "$$\\hat \\tau = E[Y_{1}|D = 1] − E[Y_{0}|D = 0] \\\\= \\underbrace{E[Y_{1} − Y_{0}|D = 1]}_{part A} + \\underbrace{E[Y_{0}|D = 1] − E[Y_{0}|D =0]}_{part B}$$"
   ]
  },
  {
   "cell_type": "markdown",
   "id": "framed-mobility",
   "metadata": {},
   "source": [
    "What's part A?\n",
    "\n",
    "- Individual treatment effect\n",
    "- Average treatment on the treated\n",
    "- Possible baseline differences (selection effect)\n",
    "- None of the above"
   ]
  },
  {
   "cell_type": "markdown",
   "id": "cutting-ancient",
   "metadata": {},
   "source": [
    "What's part B?\n",
    "\n",
    "- individual treatment effect\n",
    "- baseline difference (difference in expected outcome (in the absence of treatment) between the group assigned to treatment and the group not assigned to treatment)\n",
    "-  individual treatment effect of the treated \n",
    "- None of the above. "
   ]
  },
  {
   "cell_type": "markdown",
   "id": "thermal-christmas",
   "metadata": {},
   "source": [
    "When our goal is to understand causal relationships, the main reason we use linear regressions with control variables when working with non-randomized data is because...\n",
    "\n",
    "- Control variables are just there to improve the statistical efficiency (reduce the standard errors) of our estimates of the causal effect we're measuring.\n",
    "- It is our hope that by controlling for differences between observations, we can correct for any baseline differences between treated and untreated observations (i.e. we want to account for selection effects) and thus generate accurate estimates of causal effects.\n",
    "- We just include control variables to allows us to compare our causal effect of interest to the causal effect of other factors in the same model.\n",
    "- None of the above."
   ]
  },
  {
   "cell_type": "markdown",
   "id": "mechanical-british",
   "metadata": {},
   "source": [
    "A researcher at Duke wanted to study the effect of (stuff here):\n",
    "\n",
    "Which of the following is an example of an *external validity* concern for this study?\n"
   ]
  },
  {
   "cell_type": "markdown",
   "id": "ahead-sugar",
   "metadata": {},
   "source": [
    "Which of these is an example of an *internal validity* concern for this study?"
   ]
  },
  {
   "cell_type": "markdown",
   "id": "independent-lightning",
   "metadata": {},
   "source": [
    "When running A/B tests, which of the following are best practices (select all that apply):\n",
    "\n",
    "- Run A/A test\n",
    "- Monitor results so, in the event results show a statistically significant result, you can stop the study early to save your company money\n",
    "- Pick a stopping rule before you start not related to the outcome of the test. "
   ]
  }
 ],
 "metadata": {
  "kernelspec": {
   "display_name": "Python 3",
   "language": "python",
   "name": "python3"
  },
  "language_info": {
   "codemirror_mode": {
    "name": "ipython",
    "version": 3
   },
   "file_extension": ".py",
   "mimetype": "text/x-python",
   "name": "python",
   "nbconvert_exporter": "python",
   "pygments_lexer": "ipython3",
   "version": "3.7.8"
  }
 },
 "nbformat": 4,
 "nbformat_minor": 5
}
