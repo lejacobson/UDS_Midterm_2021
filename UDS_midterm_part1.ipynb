{
 "cells": [
  {
   "cell_type": "markdown",
   "id": "voluntary-spiritual",
   "metadata": {},
   "source": [
    "# UDS Midterm\n",
    "\n",
    "Hello, and welcome to Part One of the Unifying Data Science midterm! In this part, you will be asked to answer a handful of multiple-choice questions. While all of the questions are listed here, please submit them all on gradescope using the `UDS_midterm_part1` quiz assignment (Doing so simplifies the grading dramatically for the TAs!).\n",
    "\n",
    "Good luck!"
   ]
  },
  {
   "cell_type": "markdown",
   "id": "median-ownership",
   "metadata": {},
   "source": [
    "**Question 1:** Which of the following is the *fundamental problem of causal inference*: \n",
    "\n",
    "- We can only make causal inferences when we can run experiments, but experiments are expensive and often difficult to implement.\n",
    "- We can never directly observe both an outcome under treatment and its counter-factual (outcome without treatment) for the same unit of observation at the same moment in time. Since we would have to be able to observe both an outcome and its counterfactual to be certain of the causal effect of any treatment, this means we can never be absolutely certain of our causal inferences. The best we can do is look for stand-ins we think *approximate* the counter-factual condition and use those to make inferences.\n",
    "- Causal inference, especially when doing something like matching, is often too computationally challenging to be practical. \n",
    "- None of the above. "
   ]
  },
  {
   "cell_type": "markdown",
   "id": "needed-oxide",
   "metadata": {},
   "source": [
    "When we compare outcomes for treated units to untreated units, the resulting estimated treatment effect $\\hat \\tau$ can be decomposed into two parts.\n",
    "\n",
    "\n",
    "$$\\hat \\tau = E[Y_{1}|D = 1] − E[Y_{0}|D = 0] \\\\= \\underbrace{E[Y_{1} − Y_{0}|D = 1]}_{part A} + \\underbrace{E[Y_{0}|D = 1] − E[Y_{0}|D =0]}_{part B}$$"
   ]
  },
  {
   "cell_type": "markdown",
   "id": "legitimate-storage",
   "metadata": {},
   "source": [
    "**Question 2:** What's part A?\n",
    "\n",
    "- Individual treatment effect\n",
    "- Baseline difference (difference in expected outcome (in the absence of treatment) between the group assigned to treatment and the group not assigned to treatment)\n",
    "- Average Treatment on the Treated\n",
    "- None of the above"
   ]
  },
  {
   "cell_type": "markdown",
   "id": "processed-rating",
   "metadata": {},
   "source": [
    "**Question 3:**\n",
    "\n",
    "What's part B?\n",
    "\n",
    "- Individual treatment effect\n",
    "- Baseline difference (difference in expected outcome (in the absence of treatment) between the group assigned to treatment and the group not assigned to treatment)\n",
    "- Average Treatment on the Treated\n",
    "- None of the above"
   ]
  },
  {
   "cell_type": "markdown",
   "id": "minimal-reward",
   "metadata": {},
   "source": [
    "**Question 4:**\n",
    "\n",
    "When our goal is to understand causal relationships, the main reason we use linear regressions with control variables when working with non-randomized data is because...\n",
    "\n",
    "- Control variables are only there to improve the statistical efficiency (reduce the standard errors) of our estimates of the causal effect we're measuring.\n",
    "- It is our hope that by controlling for differences between observations, we can correct for any baseline differences between treated and untreated observations (i.e. we want to account for selection effects) and thus generate accurate estimates of causal effects.\n",
    "- We only include control variables to allows us to compare our causal effect of interest to the causal effect of other factors in the same model.\n",
    "- None of the above."
   ]
  },
  {
   "cell_type": "markdown",
   "id": "eligible-april",
   "metadata": {},
   "source": [
    "When the pandemic ends, Starbucks anticipates a *huge* rise in business as people, desperate to be around other people, dramatically increase the amount of time they spend working in coffee shops. \n",
    "\n",
    "To accomodate this anticipated demand, they plan to open many news stores. But Starbucks has lots of stores already, and they worry new stores may steal sales from existing stores if they're located too close to one another. \n",
    "\n",
    "To help them decide where to put these new stores, they look at data from 2015-2018 on the relationship between (a) total profits in each region (i.e. the sum of profits for pre-existing and new stores), and (b) the distance a new store was from the closest pre-existing store. \n",
    "\n",
    "**Question 5:** Which of the following is an example of an *internal validity* concern for this study? (select all that apply):\n",
    "\n",
    "- Starbucks is expecting consumer behavior to change because everyone's been stuck in their homes during the pandemic, so data from 2015-2018 may not do a good job of predicting how consumers will respond to new Starbucks locations post-pandemic. \n",
    "- The distance between old and new stores may be related to data Starbucks had at the time about unmet demand in a market (e.g. Starbucks may have put new stores closers to old stores in areas where they had huge lines at the old Starbucks). \n",
    "- If Starbucks started by opening new stores between 2015 and 2018 in areas where there were big gaps between stores (i.e. where the distance between new and old stores was especially large), then any general time trends in sales (i.e. if sales were growing from 2015-2016, then fell from 2017-2018) then we might mistakenly ascribe the positive correlation between sales and distance between stores to where stores are located instead of when those expansions took place. \n",
    "- Markets where expansion took place in 2015-2018 were probably Starbuck's best markets (why else open new stores?) and they're probably now saturated with stores, so presumably the new stores Starbucks will be openning will be in markets that are different from the markets where that data was collected in ways that may impact how distance-between-stores impacts sales."
   ]
  },
  {
   "cell_type": "markdown",
   "id": "verbal-contest",
   "metadata": {},
   "source": [
    "**Question 6:** Which of these is an example of an *external validity* concern for this study? (select all that apply):\n",
    "\n",
    "- Starbucks is expecting consumer behavior to change because everyone's been stuck in their homes during the pandemic, so data from 2015-2018 may not do a good job of predicting how consumers will respond to new Starbucks locations post-pandemic. \n",
    "- The distance between old and new stores may be related to data Starbucks had at the time about unmet demand in a market (e.g. Starbucks may have put new stores closers to old stores in areas where they had huge lines at the old Starbucks). \n",
    "- If Starbucks started by opening new stores between 2015 and 2018 in areas where there were big gaps between stores (i.e. where the distance between new and old stores was especially large), then any general time trends in sales (i.e. if sales were growing from 2015-2016, then fell from 2017-2018) then we might mistakenly ascribe the positive correlation between sales and distance between stores to where stores are located instead of when those expansions took place. \n",
    "- Markets where expansion took place in 2015-2018 were probably Starbuck's best markets (why else open new stores?) and they're probably now saturated with stores, so presumably the new stores Starbucks will be openning will be in markets that are different from the markets where that data was collected in ways that may impact how distance-between-stores impacts sales.\n"
   ]
  },
  {
   "cell_type": "markdown",
   "id": "substantial-belarus",
   "metadata": {},
   "source": [
    "**Question 7:** When running A/B tests, which of the following are best practices (select all that apply):\n",
    "\n",
    "- Run an A/A test to ensure your randomization is working and your strategy for analyzing your data is valid. \n",
    "- Run t-tests on the average difference in outcomes between your A and B groups regularly, and if the t-test reports the difference between the groups has reached statistical significance, stop the study early to save your company money.\n",
    "- Pick a period of time you plan to run the experiment before you start based on the expected statistical power of your data and the size of an effect you want to be able to detect.\n",
    "- Rather than randomizing, assign the customers you most want to win over to one branch and other customers to another."
   ]
  }
 ],
 "metadata": {
  "kernelspec": {
   "display_name": "Python 3",
   "language": "python",
   "name": "python3"
  },
  "language_info": {
   "codemirror_mode": {
    "name": "ipython",
    "version": 3
   },
   "file_extension": ".py",
   "mimetype": "text/x-python",
   "name": "python",
   "nbconvert_exporter": "python",
   "pygments_lexer": "ipython3",
   "version": "3.7.8"
  }
 },
 "nbformat": 4,
 "nbformat_minor": 5
}
